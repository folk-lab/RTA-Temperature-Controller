{
 "cells": [
  {
   "cell_type": "markdown",
   "source": [
    "## RTA Monitor\r\n",
    "\r\n",
    "1. Define the number of seconds you would like to monitor the process for \r\n",
    "2. Define any short comments about the process \r\n",
    "\r\n",
    "> Note that once all heating steps are complete, no more temperature data can be read. The reading process may terminate before the actual specified number of seconds to read for."
   ],
   "metadata": {}
  },
  {
   "cell_type": "code",
   "execution_count": 1,
   "source": [
    "# remeber, this number is in seconds!\r\n",
    "# The actual reading time may \r\n",
    "READ_FOR = 15*60\r\n",
    "COMMENT = \"4 mbar Anneal\""
   ],
   "outputs": [],
   "metadata": {}
  },
  {
   "cell_type": "markdown",
   "source": [
    "Where should I save plot data?"
   ],
   "metadata": {}
  },
  {
   "cell_type": "code",
   "execution_count": 2,
   "source": [
    "from pathlib import Path \r\n",
    "\r\n",
    "data_path = Path(\"RTA-data\")"
   ],
   "outputs": [],
   "metadata": {}
  },
  {
   "cell_type": "markdown",
   "source": [
    "Great. Here are some useful `python` libraries that we will be using. Please help me import them by clicking the run button next to the cell."
   ],
   "metadata": {}
  },
  {
   "cell_type": "code",
   "execution_count": 3,
   "source": [
    "import plotly.graph_objs as go\r\n",
    "import h5py\r\n",
    "import numpy as np\r\n",
    "import matplotlib.pyplot as plt \r\n",
    "from SerialReader import SerialReaderPlotter\r\n",
    "\r\n",
    "s = SerialReaderPlotter(\"COM8\", baudrate=19200, timeout=60)"
   ],
   "outputs": [],
   "metadata": {}
  },
  {
   "cell_type": "markdown",
   "source": [
    "## Live Plot\r\n",
    "The next cell creates a plot window where our temperature versus time trace will go. Every time you run the following cell, a new graph will be created."
   ],
   "metadata": {}
  },
  {
   "cell_type": "code",
   "execution_count": 10,
   "source": [
    "fig = go.FigureWidget(data=[])\r\n",
    "fig.update_layout(\r\n",
    "    template=\"plotly_white\",\r\n",
    "    xaxis_title=\"Time (s)\",\r\n",
    "    yaxis_title=\"Temperature (C)\",\r\n",
    ")"
   ],
   "outputs": [
    {
     "output_type": "display_data",
     "data": {
      "text/plain": [
       "FigureWidget({\n",
       "    'data': [],\n",
       "    'layout': {'template': '...',\n",
       "               'xaxis': {'title': {'text': 'T…"
      ],
      "application/vnd.jupyter.widget-view+json": {
       "version_major": 2,
       "version_minor": 0,
       "model_id": "616657f243a54a06b0012a0b249d5731"
      }
     },
     "metadata": {}
    }
   ],
   "metadata": {}
  },
  {
   "cell_type": "markdown",
   "source": [
    "## Begin\r\n",
    "When you are ready, click run in the following cell to start the monitoring process."
   ],
   "metadata": {}
  },
  {
   "cell_type": "code",
   "execution_count": 11,
   "source": [
    "\"\"\"\r\n",
    "In this cell, I left to you the convenience of allowing to other things \r\n",
    "while the serial reader is reading.\r\n",
    "\"\"\"\r\n",
    "s.start_reading(READ_FOR)\r\n",
    "# fig.update_layout(xaxis_range=[0,READ_FOR])\r\n",
    "s.start_writing(fig)\r\n",
    "s.writer.join()"
   ],
   "outputs": [
    {
     "output_type": "stream",
     "name": "stderr",
     "text": [
      "(Reader   ) Starting\n",
      "(Plotter  ) Starting\n",
      "(Reader   ) Exiting\n",
      "(Plotter  ) Exiting\n"
     ]
    }
   ],
   "metadata": {}
  },
  {
   "cell_type": "markdown",
   "source": [
    "## Saving Data"
   ],
   "metadata": {}
  },
  {
   "cell_type": "code",
   "execution_count": 12,
   "source": [
    "from datetime import datetime\r\n",
    "date = datetime.now().strftime(\"%Y_%m_%d-%I-%M_%p\")\r\n",
    "print(\"Today: {}\".format(date))"
   ],
   "outputs": [
    {
     "output_type": "stream",
     "name": "stdout",
     "text": [
      "Today: 2021_08_24-02-09_PM\n"
     ]
    }
   ],
   "metadata": {}
  },
  {
   "cell_type": "code",
   "execution_count": 13,
   "source": [
    "for i, scatter in enumerate(fig.data):\r\n",
    "    filename = data_path/Path(\"RTA_Run_{}_\".format(i) + date + \".h5\")\r\n",
    "\r\n",
    "    hf = h5py.File(filename, 'w')\r\n",
    "    hf.create_dataset('Time', data=np.array(scatter.x[1:], dtype=float)) \r\n",
    "    hf.create_dataset('Temperature', data=np.array(scatter.y[1:], dtype=float))\r\n",
    "    hf.create_dataset(\"Comment\", data = [COMMENT, ])\r\n",
    "    hf.close()"
   ],
   "outputs": [],
   "metadata": {}
  },
  {
   "cell_type": "markdown",
   "source": [
    "## Loading Data"
   ],
   "metadata": {}
  },
  {
   "cell_type": "code",
   "execution_count": 16,
   "source": [
    "files = [Path(\"RTA_Run_0_2021_08_24-01-19_PM.h5\"),\r\n",
    "         Path(\"RTA_Run_0_2021_08_24-01-43_PM.h5\"),\r\n",
    "         Path(\"RTA_Run_0_2021_08_24-02-09_PM.h5\")]\r\n",
    "\r\n",
    "previous_runs = {f.name: h5py.File(data_path/f, \"r\") for f in files}"
   ],
   "outputs": [],
   "metadata": {}
  },
  {
   "cell_type": "code",
   "execution_count": 17,
   "source": [
    "read = go.FigureWidget(data=[])\r\n",
    "read.update_layout(\r\n",
    "    template=\"plotly_white\",\r\n",
    "    xaxis_title=\"Time (s)\",\r\n",
    "    yaxis_title=\"Temperature (C)\",\r\n",
    ")\r\n",
    "\r\n",
    "for k in previous_runs.keys():\r\n",
    "    read.add_scatter(x=[], \r\n",
    "                    y=[], \r\n",
    "                    line=dict(width=1),\r\n",
    "                    name = previous_runs[k][\"Comment\"][0].decode(\"utf-8\"))\r\n",
    "\r\n",
    "    read_dat = read.data[-1]\r\n",
    "\r\n",
    "    with read.batch_update():\r\n",
    "        read_dat.x += tuple(previous_runs[k][\"Time\"][:])\r\n",
    "        read_dat.y += tuple(previous_runs[k][\"Temperature\"][:]) \r\n",
    "                \r\n",
    "read"
   ],
   "outputs": [
    {
     "output_type": "display_data",
     "data": {
      "text/plain": [
       "FigureWidget({\n",
       "    'data': [{'line': {'width': 1},\n",
       "              'name': 'Vacuum Anneal #1',\n",
       "              'ty…"
      ],
      "application/vnd.jupyter.widget-view+json": {
       "version_major": 2,
       "version_minor": 0,
       "model_id": "7f8ffc953d72431d823d8967f38134f6"
      }
     },
     "metadata": {}
    }
   ],
   "metadata": {}
  },
  {
   "cell_type": "code",
   "execution_count": null,
   "source": [],
   "outputs": [],
   "metadata": {}
  }
 ],
 "metadata": {
  "orig_nbformat": 4,
  "language_info": {
   "name": "python",
   "version": "3.9.6",
   "mimetype": "text/x-python",
   "codemirror_mode": {
    "name": "ipython",
    "version": 3
   },
   "pygments_lexer": "ipython3",
   "nbconvert_exporter": "python",
   "file_extension": ".py"
  },
  "kernelspec": {
   "name": "python3",
   "display_name": "Python 3.9.6 64-bit ('ray': conda)"
  },
  "interpreter": {
   "hash": "a910d45236678c3c10cdb1ea76c9778fb4e759d2f333046ac1643087d8432080"
  }
 },
 "nbformat": 4,
 "nbformat_minor": 2
}