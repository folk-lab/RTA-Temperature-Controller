{
 "cells": [
  {
   "cell_type": "markdown",
   "metadata": {},
   "source": [
    "## RTA Monitor\n",
    "\n",
    "This notebook will help you record, and live plot the temperature of the RTA over time. \n",
    "\n",
    "\n",
    "\n",
    "Define the *maximum* number of seconds you would like to monitor the process \n",
    "> Note that once all heating steps are complete, no more temperature data can be read. The reading process may terminate before the actual specified number of seconds to read for."
   ]
  },
  {
   "cell_type": "code",
   "execution_count": 22,
   "metadata": {},
   "outputs": [],
   "source": [
    "# remeber, this number is in seconds!\n",
    "# The actual reading time may \n",
    "READ_FOR = 15*60 "
   ]
  },
  {
   "cell_type": "markdown",
   "metadata": {},
   "source": [
    "Where should I save plot data?"
   ]
  },
  {
   "cell_type": "code",
   "execution_count": 23,
   "metadata": {},
   "outputs": [],
   "source": [
    "from pathlib import Path \n",
    "\n",
    "data_path = Path(r\"RTA-data\\Oct 22\")\n",
    "data_path.mkdir(parents=True, exist_ok=True)"
   ]
  },
  {
   "cell_type": "markdown",
   "metadata": {},
   "source": [
    "Great. Here are some useful `python` libraries that we will be using. Please help me import them by clicking the run button next to the cell."
   ]
  },
  {
   "cell_type": "code",
   "execution_count": 25,
   "metadata": {},
   "outputs": [],
   "source": [
    "import h5py\n",
    "import numpy as np\n",
    "import plotly.graph_objs as go\n",
    "import matplotlib.pyplot as plt \n",
    "\n",
    "from SerialReader import SerialReaderPlotter\n",
    "\n",
    "s = SerialReaderPlotter(\"COM8\", baudrate=19200, timeout=60)"
   ]
  },
  {
   "cell_type": "markdown",
   "metadata": {},
   "source": [
    "## Run\n",
    "Execute the following cell to start reading from the RTA."
   ]
  },
  {
   "cell_type": "code",
   "execution_count": 26,
   "metadata": {},
   "outputs": [
    {
     "name": "stderr",
     "output_type": "stream",
     "text": [
      "(Reader   ) Starting\n",
      "(Plotter  ) Starting\n"
     ]
    }
   ],
   "source": [
    "fig = go.FigureWidget(data=[])\n",
    "fig.update_layout(\n",
    "    template=\"plotly_white\",\n",
    "    xaxis_title=\"Time (s)\",\n",
    "    yaxis_title=\"Temperature (C)\",\n",
    ")\n",
    "\n",
    "\"\"\"\n",
    "You the convenience of allowing to do other things \n",
    "while the serial reader is reading when \"s.writer.join()\" is commented out\n",
    "\"\"\"\n",
    "s.start_reading(READ_FOR)\n",
    "# fig.update_layout(xaxis_range=[0,READ_FOR])\n",
    "s.start_writing(fig)\n",
    "# s.writer.join()"
   ]
  },
  {
   "cell_type": "markdown",
   "metadata": {},
   "source": [
    "## Display the Live Plot"
   ]
  },
  {
   "cell_type": "code",
   "execution_count": 27,
   "metadata": {},
   "outputs": [
    {
     "data": {
      "application/vnd.jupyter.widget-view+json": {
       "model_id": "87ac2b892347499091c814a8f70aa666",
       "version_major": 2,
       "version_minor": 0
      },
      "text/plain": [
       "FigureWidget({\n",
       "    'data': [{'line': {'width': 1},\n",
       "              'type': 'scatter',\n",
       "              'uid': 'e848…"
      ]
     },
     "metadata": {},
     "output_type": "display_data"
    }
   ],
   "source": [
    "fig"
   ]
  },
  {
   "cell_type": "markdown",
   "metadata": {},
   "source": [
    "## Saving Data\n",
    "\n",
    "Write down any short comments about the process "
   ]
  },
  {
   "cell_type": "code",
   "execution_count": 9,
   "metadata": {},
   "outputs": [],
   "source": [
    "COMMENT = \"338C_452C_PID_Test_dt2_dt2\""
   ]
  },
  {
   "cell_type": "code",
   "execution_count": 10,
   "metadata": {},
   "outputs": [
    {
     "name": "stdout",
     "output_type": "stream",
     "text": [
      "Today: 2021_10_23-10-41_AM\n"
     ]
    }
   ],
   "source": [
    "from datetime import datetime\n",
    "date = datetime.now().strftime(\"%Y_%m_%d-%I-%M_%p\")\n",
    "print(\"Today: {}\".format(date))"
   ]
  },
  {
   "cell_type": "code",
   "execution_count": 11,
   "metadata": {},
   "outputs": [],
   "source": [
    "for i, scatter in enumerate(fig.data):\n",
    "    filename = data_path/Path(\"RTA_Run_{}_\".format(i) + COMMENT + \"_{}.h5\".format(date))\n",
    "    hf = h5py.File(filename, 'w')\n",
    "    hf.create_dataset('time_arr', data=np.array(scatter.x[1:], dtype=float)) \n",
    "    hf.create_dataset('temperature_arr', data=np.array(scatter.y[1:], dtype=float))\n",
    "    hf.close()"
   ]
  },
  {
   "cell_type": "markdown",
   "metadata": {},
   "source": [
    "## Loading Data"
   ]
  },
  {
   "cell_type": "code",
   "execution_count": 16,
   "metadata": {},
   "outputs": [],
   "source": [
    "# Specify which directory the data will be read from\n",
    "read_path = Path(r\"RTA-data\\Characterization\")"
   ]
  },
  {
   "cell_type": "code",
   "execution_count": 17,
   "metadata": {},
   "outputs": [],
   "source": [
    "previous_runs = {f.name: h5py.File(f, \"r\") for f in read_path.glob(\"*.h5\")}"
   ]
  },
  {
   "cell_type": "code",
   "execution_count": 18,
   "metadata": {},
   "outputs": [
    {
     "data": {
      "application/vnd.jupyter.widget-view+json": {
       "model_id": "10826843c9844f499ad70124e88c3059",
       "version_major": 2,
       "version_minor": 0
      },
      "text/plain": [
       "FigureWidget({\n",
       "    'data': [{'line': {'width': 1},\n",
       "              'type': 'scatter',\n",
       "              'uid': '7778…"
      ]
     },
     "metadata": {},
     "output_type": "display_data"
    }
   ],
   "source": [
    "read = go.FigureWidget(data=[])\n",
    "read.update_layout(\n",
    "    template=\"plotly_white\",\n",
    "    xaxis_title=\"Time (s)\",\n",
    "    yaxis_title=\"Temperature (C)\",\n",
    ")\n",
    "\n",
    "for k in previous_runs.keys():\n",
    "    read.add_scatter(x=[], \n",
    "                    y=[], \n",
    "                    line=dict(width=1))\n",
    "\n",
    "    read_dat = read.data[-1]\n",
    "    \n",
    "    x = previous_runs[k][\"time_arr\"][:]\n",
    "    y = previous_runs[k][\"temperature_arr\"][:]\n",
    "    with read.batch_update():\n",
    "        read_dat.x += tuple(x)\n",
    "        read_dat.y += tuple(y) \n",
    "    previous_runs[k].close()\n",
    "read"
   ]
  },
  {
   "cell_type": "code",
   "execution_count": null,
   "metadata": {},
   "outputs": [],
   "source": []
  }
 ],
 "metadata": {
  "interpreter": {
   "hash": "a910d45236678c3c10cdb1ea76c9778fb4e759d2f333046ac1643087d8432080"
  },
  "kernelspec": {
   "display_name": "Python 3.9.6 64-bit ('ray': conda)",
   "name": "python3"
  },
  "language_info": {
   "codemirror_mode": {
    "name": "ipython",
    "version": 3
   },
   "file_extension": ".py",
   "mimetype": "text/x-python",
   "name": "python",
   "nbconvert_exporter": "python",
   "pygments_lexer": "ipython3",
   "version": "3.9.6"
  },
  "orig_nbformat": 4
 },
 "nbformat": 4,
 "nbformat_minor": 2
}
