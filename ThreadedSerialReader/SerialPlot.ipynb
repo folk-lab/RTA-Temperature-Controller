{
 "cells": [
  {
   "cell_type": "markdown",
   "source": [
    "## RTA Monitor\r\n",
    "\r\n",
    "1. Define the number of seconds you would like to monitor the process for \r\n",
    "2. Define any short comments about the process "
   ],
   "metadata": {}
  },
  {
   "cell_type": "code",
   "execution_count": null,
   "source": [
    "# remeber, this number is in seconds!\r\n",
    "READ_FOR = 300\r\n",
    "# COMMENT = \"\""
   ],
   "outputs": [],
   "metadata": {}
  },
  {
   "cell_type": "markdown",
   "source": [
    "Great. Here are some useful `python` libraries that we will be using. Please help me import them by clicking the run button next to the cell."
   ],
   "metadata": {}
  },
  {
   "cell_type": "code",
   "execution_count": null,
   "source": [
    "import plotly.graph_objs as go\r\n",
    "import h5py\r\n",
    "import numpy as np\r\n",
    "import matplotlib.pyplot as plt \r\n",
    "from SerialReader import SerialReaderPlotter\r\n",
    "\r\n",
    "s = SerialReaderPlotter(\"COM8\", baudrate=9600)"
   ],
   "outputs": [],
   "metadata": {}
  },
  {
   "cell_type": "markdown",
   "source": [
    "## Live Plot\r\n",
    "The next cell creates a plot window where our temperature versus time trace will go. Every time you run the following cell, a new graph will be created."
   ],
   "metadata": {}
  },
  {
   "cell_type": "code",
   "execution_count": null,
   "source": [
    "fig = go.FigureWidget(data=[])\r\n",
    "fig.update_layout(\r\n",
    "    template=\"plotly_white\",\r\n",
    "    xaxis_title=\"Time (s)\",\r\n",
    "    yaxis_title=\"Temperature (C)\",\r\n",
    ")"
   ],
   "outputs": [],
   "metadata": {}
  },
  {
   "cell_type": "markdown",
   "source": [
    "## Begin\r\n",
    "When you are ready, click run in the following cell to start the monitoring process."
   ],
   "metadata": {}
  },
  {
   "cell_type": "code",
   "execution_count": null,
   "source": [
    "\"\"\"\r\n",
    "In this cell, I left to you the convenience of allowing to other things \r\n",
    "while the serial reader is reading.\r\n",
    "\"\"\"\r\n",
    "s.start_reading(READ_FOR)\r\n",
    "fig.update_layout(xaxis_range=[0,READ_FOR])\r\n",
    "s.start_writing(fig)\r\n",
    "s.writer.join()"
   ],
   "outputs": [],
   "metadata": {}
  },
  {
   "cell_type": "markdown",
   "source": [
    "## Saving Data"
   ],
   "metadata": {}
  },
  {
   "cell_type": "code",
   "execution_count": null,
   "source": [
    "from datetime import datetime\r\n",
    "date = datetime.now().strftime(\"%Y_%m_%d-%I-%M_%p\")\r\n",
    "print(\"Today: {}\".format(date))"
   ],
   "outputs": [],
   "metadata": {}
  },
  {
   "cell_type": "code",
   "execution_count": null,
   "source": [
    "for i, scatter in enumerate(fig.data):\r\n",
    "    filename = 'RTA_Run_{}_'.format(i) + date + '.h5'\r\n",
    "    print(filename)\r\n",
    "    hf = h5py.File(filename, 'w')\r\n",
    "    hf.create_dataset('Time', data=np.array(scatter.x, dtype=float))\r\n",
    "    hf.create_dataset('Temperature', data=np.array(scatter.y, dtype=float))\r\n",
    "    hf.close()"
   ],
   "outputs": [],
   "metadata": {}
  }
 ],
 "metadata": {
  "orig_nbformat": 4,
  "language_info": {
   "name": "python",
   "version": "3.9.5",
   "mimetype": "text/x-python",
   "codemirror_mode": {
    "name": "ipython",
    "version": 3
   },
   "pygments_lexer": "ipython3",
   "nbconvert_exporter": "python",
   "file_extension": ".py"
  },
  "kernelspec": {
   "name": "python3",
   "display_name": "Python 3.9.5 64-bit"
  },
  "interpreter": {
   "hash": "5aff1fe4ce6c4e9f9e9cc1233ba2ec990bef930f18d2a5ca6a542419dd439ec3"
  }
 },
 "nbformat": 4,
 "nbformat_minor": 2
}