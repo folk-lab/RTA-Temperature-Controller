{
 "cells": [
  {
   "cell_type": "markdown",
   "metadata": {},
   "source": [
    "# RTA Serial Plotter\n",
    "\n",
    "This notebook will help you record, and live plot the temperature of the RTA over time.\n",
    " \n",
    "> Note that once all heating steps are complete, no more temperature data can be read. The reading process may terminate before the actual specified number of seconds to read for.\n",
    "\n",
    "\n",
    "**Before pressing the START button on the RTA, run the following cells:**\n",
    "\n",
    "1. Import required packages\n",
    "2. Define where data is saved\n",
    "3. Initialize plot"
   ]
  },
  {
   "cell_type": "code",
   "execution_count": 58,
   "metadata": {},
   "outputs": [
    {
     "data": {
      "application/vnd.jupyter.widget-view+json": {
       "model_id": "35e1aea05b1441b9a46caa8a2ceb7e96",
       "version_major": 2,
       "version_minor": 0
      },
      "text/plain": [
       "FigureWidget({\n",
       "    'data': [],\n",
       "    'layout': {'template': '...',\n",
       "               'xaxis': {'title': {'text': 'T…"
      ]
     },
     "metadata": {},
     "output_type": "display_data"
    }
   ],
   "source": [
    "from pathlib import Path \n",
    "import h5py\n",
    "import numpy as np\n",
    "import copy\n",
    "import plotly.graph_objs as go\n",
    "import matplotlib.pyplot as plt \n",
    "import SerialReader\n",
    "from SerialReader import SerialReaderPlotter\n",
    "\n",
    "# data_path = Path(r\"RTA-data\\2022-07-19\")                # Where data is saved\n",
    "# data_path.mkdir(parents=True, exist_ok=True)\n",
    "\n",
    "fig = go.FigureWidget(data=[])\n",
    "fig.update_layout(\n",
    "    template=\"plotly_white\",\n",
    "    xaxis_title=\"Time (s)\",\n",
    "    yaxis_title=\"Temperature (C)\",\n",
    ")"
   ]
  },
  {
   "cell_type": "markdown",
   "metadata": {},
   "source": [
    "5. Define total time of plotting data\n",
    "6. Initialize serial connection\n",
    "7. Begin plotting & writing threads"
   ]
  },
  {
   "cell_type": "code",
   "execution_count": 54,
   "metadata": {},
   "outputs": [
    {
     "name": "stderr",
     "output_type": "stream",
     "text": [
      "(Reader   ) Starting\n",
      "(Plotter  ) Starting\n"
     ]
    }
   ],
   "source": [
    "READ_FOR = 60*15        # Total time (s) the serial reader will plot\n",
    "\n",
    "port = 'COM7'           # Find this port in Device Manager\n",
    "\n",
    "s = SerialReaderPlotter(port, READ_FOR, fig, baudrate=19200, timeout=1)\n",
    "\n",
    "s.start_reading()\n",
    "s.start_plotting()"
   ]
  },
  {
   "cell_type": "markdown",
   "metadata": {},
   "source": [
    "Scroll up and you should see that the plot is updating now.\n",
    "\n",
    "8. **Press START** on the RTA to begin annealing.\n",
    "\n",
    "\n",
    "# Saving Data"
   ]
  },
  {
   "cell_type": "code",
   "execution_count": 55,
   "metadata": {},
   "outputs": [],
   "source": [
    "COMMENT = \"435C_M03_26_21p1_C_PID_20-20-5\""
   ]
  },
  {
   "cell_type": "code",
   "execution_count": 62,
   "metadata": {},
   "outputs": [
    {
     "name": "stdout",
     "output_type": "stream",
     "text": [
      "Today: 2022_10_18-04-16_PM\n"
     ]
    }
   ],
   "source": [
    "from datetime import datetime\n",
    "\n",
    "data_path = Path(f\"RTA-data\\{datetime.now().date()}\")                # Where data is saved\n",
    "data_path.mkdir(parents=True, exist_ok=True)\n",
    "\n",
    "date = datetime.now().strftime(\"%Y_%m_%d-%I-%M_%p\")\n",
    "print(\"Today: {}\".format(date))"
   ]
  },
  {
   "cell_type": "code",
   "execution_count": 57,
   "metadata": {},
   "outputs": [],
   "source": [
    "fig = copy.copy(fig)\n",
    "for i, scatter in enumerate(fig.data):\n",
    "    filename = data_path/Path(\"RTA_Run_{}_\".format(i) + COMMENT + \"_{}.h5\".format(date))\n",
    "    with h5py.File(filename, 'w') as hf:\n",
    "        hf.create_dataset('time_arr', data=np.array(scatter.x[1:], dtype=float)) \n",
    "        hf.create_dataset('temperature_arr', data=np.array(scatter.y[1:], dtype=float))"
   ]
  },
  {
   "cell_type": "markdown",
   "metadata": {},
   "source": [
    "## Loading Data"
   ]
  },
  {
   "cell_type": "code",
   "execution_count": 70,
   "metadata": {},
   "outputs": [],
   "source": [
    "# Specify which directory the data will be read from\n",
    "read_path = Path(r\"RTA-data\\2022-10-17\")"
   ]
  },
  {
   "cell_type": "code",
   "execution_count": 71,
   "metadata": {},
   "outputs": [],
   "source": [
    "previous_runs = {f.name: h5py.File(f, \"r\") for f in read_path.glob(\"*.h5\")}"
   ]
  },
  {
   "cell_type": "code",
   "execution_count": 68,
   "metadata": {},
   "outputs": [
    {
     "data": {
      "application/vnd.jupyter.widget-view+json": {
       "model_id": "e1770542bb6e416384d21ea7354e80a5",
       "version_major": 2,
       "version_minor": 0
      },
      "text/plain": [
       "FigureWidget({\n",
       "    'data': [{'line': {'width': 1},\n",
       "              'type': 'scatter',\n",
       "              'uid': '5224…"
      ]
     },
     "metadata": {},
     "output_type": "display_data"
    }
   ],
   "source": [
    "read = go.FigureWidget(data=[])\n",
    "read.update_layout(\n",
    "    template=\"plotly_white\",\n",
    "    xaxis_title=\"Time (s)\",\n",
    "    yaxis_title=\"Temperature (C)\",\n",
    ")\n",
    "\n",
    "for k in previous_runs.keys():\n",
    "    read.add_scatter(x=[], \n",
    "                    y=[], \n",
    "                    line=dict(width=1))\n",
    "\n",
    "    read_dat = read.data[-1]\n",
    "    \n",
    "    x = previous_runs[k][\"time_arr\"][:]\n",
    "    y = previous_runs[k][\"temperature_arr\"][:]\n",
    "    with read.batch_update():\n",
    "        read_dat.x += tuple(x)\n",
    "        read_dat.y += tuple(y) \n",
    "    previous_runs[k].close()\n",
    "read"
   ]
  },
  {
   "cell_type": "code",
   "execution_count": 89,
   "metadata": {},
   "outputs": [
    {
     "data": {
      "application/vnd.jupyter.widget-view+json": {
       "model_id": "18244865b6c4484fa1971c2c460e2bc7",
       "version_major": 2,
       "version_minor": 0
      },
      "text/plain": [
       "FigureWidget({\n",
       "    'data': [{'line': {'width': 1},\n",
       "              'name': 'RTA_Run_0_435C_M03_26_21p1_C_PID_10-…"
      ]
     },
     "metadata": {},
     "output_type": "display_data"
    }
   ],
   "source": [
    "# Now we want to aliogn to a temperature so we can compare the PID values better\n",
    "previous_runs = {f.name: h5py.File(f, \"r\") for f in read_path.glob(\"*.h5\")}\n",
    "\n",
    "temp_align = 300\n",
    "\n",
    "\n",
    "read = go.FigureWidget(data=[])\n",
    "read.update_layout(\n",
    "    template=\"plotly_white\",\n",
    "    xaxis_title=\"Time (s)\",\n",
    "    yaxis_title=\"Temperature (C)\",\n",
    ")\n",
    "\n",
    "for k in previous_runs.keys():\n",
    "    read.add_scatter(x=[], \n",
    "                    y=[], \n",
    "                    line=dict(width=1),\n",
    "                    name=f'{k}')\n",
    "\n",
    "    read_dat = read.data[-1]\n",
    "    \n",
    "    x_raw = previous_runs[k][\"time_arr\"][:]\n",
    "    y_raw = previous_runs[k][\"temperature_arr\"][:]\n",
    "\n",
    "    index = np.where(y_raw > temp_align)[0][0]\n",
    "    x = x_raw[index:] - x_raw[index]\n",
    "    y = y_raw[index:]\n",
    "    \n",
    "    with read.batch_update():\n",
    "        read_dat.x += tuple(x)\n",
    "        read_dat.y += tuple(y) \n",
    "    previous_runs[k].close()\n",
    "\n",
    "# read.update_layout(hovermode='x unified')\n",
    "read"
   ]
  },
  {
   "cell_type": "code",
   "execution_count": null,
   "metadata": {},
   "outputs": [],
   "source": []
  }
 ],
 "metadata": {
  "kernelspec": {
   "display_name": "Python 3.9.6 64-bit",
   "language": "python",
   "name": "python3"
  },
  "language_info": {
   "codemirror_mode": {
    "name": "ipython",
    "version": 3
   },
   "file_extension": ".py",
   "mimetype": "text/x-python",
   "name": "python",
   "nbconvert_exporter": "python",
   "pygments_lexer": "ipython3",
   "version": "3.9.6"
  },
  "orig_nbformat": 4,
  "vscode": {
   "interpreter": {
    "hash": "e954c7313983f0939f738fe5e2158488b6f7f50a3e2d666cd9fe3ac06f7775a1"
   }
  }
 },
 "nbformat": 4,
 "nbformat_minor": 2
}
