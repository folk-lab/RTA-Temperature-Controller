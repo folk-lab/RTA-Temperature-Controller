{
 "cells": [
  {
   "cell_type": "markdown",
   "source": [
    "## RTA Monitor\r\n",
    "\r\n",
    "Define the *maximum* number of seconds you would like to monitor the process \r\n",
    "\r\n",
    "> Note that once all heating steps are complete, no more temperature data can be read. The reading process may terminate before the actual specified number of seconds to read for."
   ],
   "metadata": {}
  },
  {
   "cell_type": "code",
   "execution_count": 4,
   "source": [
    "# remeber, this number is in seconds!\r\n",
    "# The actual reading time may \r\n",
    "READ_FOR = 15*60"
   ],
   "outputs": [],
   "metadata": {}
  },
  {
   "cell_type": "markdown",
   "source": [
    "Where should I save plot data?"
   ],
   "metadata": {}
  },
  {
   "cell_type": "code",
   "execution_count": 5,
   "source": [
    "from pathlib import Path \r\n",
    "\r\n",
    "data_path = Path(\"RTA-data\\Characterization\")"
   ],
   "outputs": [],
   "metadata": {}
  },
  {
   "cell_type": "markdown",
   "source": [
    "Great. Here are some useful `python` libraries that we will be using. Please help me import them by clicking the run button next to the cell."
   ],
   "metadata": {}
  },
  {
   "cell_type": "code",
   "execution_count": 6,
   "source": [
    "import h5py\r\n",
    "import numpy as np\r\n",
    "import plotly.graph_objs as go\r\n",
    "import matplotlib.pyplot as plt \r\n",
    "\r\n",
    "from SerialReader import SerialReaderPlotter\r\n",
    "\r\n",
    "s = SerialReaderPlotter(\"COM8\", baudrate=19200, timeout=60)"
   ],
   "outputs": [],
   "metadata": {}
  },
  {
   "cell_type": "markdown",
   "source": [
    "## Live Plot\r\n",
    "The next cell creates a plot window where our temperature versus time trace will go. Every time you run the following cell, a new graph will be created."
   ],
   "metadata": {}
  },
  {
   "cell_type": "code",
   "execution_count": 31,
   "source": [
    "fig = go.FigureWidget(data=[])\r\n",
    "fig.update_layout(\r\n",
    "    template=\"plotly_white\",\r\n",
    "    xaxis_title=\"Time (s)\",\r\n",
    "    yaxis_title=\"Temperature (C)\",\r\n",
    ")"
   ],
   "outputs": [
    {
     "output_type": "display_data",
     "data": {
      "text/plain": [
       "FigureWidget({\n",
       "    'data': [],\n",
       "    'layout': {'template': '...',\n",
       "               'xaxis': {'title': {'text': 'T…"
      ],
      "application/vnd.jupyter.widget-view+json": {
       "version_major": 2,
       "version_minor": 0,
       "model_id": "ab2e8f31ff4b4eaa8d5e9ee3d077241a"
      }
     },
     "metadata": {}
    }
   ],
   "metadata": {}
  },
  {
   "cell_type": "markdown",
   "source": [
    "## Begin\r\n",
    "When you are ready, click run in the following cell to start the monitoring process."
   ],
   "metadata": {}
  },
  {
   "cell_type": "code",
   "execution_count": 30,
   "source": [
    "\r\n",
    "\"\"\"\r\n",
    "In this cell, I left to you the convenience of allowing to other things \r\n",
    "while the serial reader is reading.\r\n",
    "\"\"\"\r\n",
    "s.start_reading(READ_FOR)\r\n",
    "# fig.update_layout(xaxis_range=[0,READ_FOR])\r\n",
    "s.start_writing(fig)\r\n",
    "\r\n",
    "# s.writer.join()"
   ],
   "outputs": [
    {
     "output_type": "stream",
     "name": "stderr",
     "text": [
      "(Reader   ) Starting\n",
      "(Plotter  ) Starting\n"
     ]
    }
   ],
   "metadata": {}
  },
  {
   "cell_type": "markdown",
   "source": [
    "## Saving Data\r\n",
    "\r\n",
    "Write down any short comments about the process "
   ],
   "metadata": {}
  },
  {
   "cell_type": "code",
   "execution_count": 28,
   "source": [
    "COMMENT = \"Empty_Test_Run__5mbar_330_445\""
   ],
   "outputs": [],
   "metadata": {}
  },
  {
   "cell_type": "code",
   "execution_count": 15,
   "source": [
    "from datetime import datetime\r\n",
    "date = datetime.now().strftime(\"%Y_%m_%d-%I-%M_%p\")\r\n",
    "print(\"Today: {}\".format(date))"
   ],
   "outputs": [
    {
     "output_type": "stream",
     "name": "stdout",
     "text": [
      "Today: 2021_08_31-08-09_PM\n"
     ]
    }
   ],
   "metadata": {}
  },
  {
   "cell_type": "code",
   "execution_count": 17,
   "source": [
    "for i, scatter in enumerate(fig.data):\r\n",
    "    filename = data_path/Path(\"RTA_Run_{}_\".format(i) + COMMENT + \"_{}.h5\".format(date))\r\n",
    "    hf = h5py.File(filename, 'w')\r\n",
    "    hf.create_dataset('time_arr', data=np.array(scatter.x[1:], dtype=float)) \r\n",
    "    hf.create_dataset('temperature_arr', data=np.array(scatter.y[1:], dtype=float))\r\n",
    "    hf.close()"
   ],
   "outputs": [],
   "metadata": {}
  },
  {
   "cell_type": "markdown",
   "source": [
    "## Loading Data"
   ],
   "metadata": {}
  },
  {
   "cell_type": "code",
   "execution_count": 25,
   "source": [
    "previous_runs = {f.name: h5py.File(f, \"r\") for f in data_path.glob(\"*.h5\")}"
   ],
   "outputs": [],
   "metadata": {}
  },
  {
   "cell_type": "code",
   "execution_count": null,
   "source": [
    "read = go.FigureWidget(data=[])\r\n",
    "read.update_layout(\r\n",
    "    template=\"plotly_white\",\r\n",
    "    xaxis_title=\"Time (s)\",\r\n",
    "    yaxis_title=\"Temperature (C)\",\r\n",
    ")\r\n",
    "\r\n",
    "for k in previous_runs.keys():\r\n",
    "    read.add_scatter(x=[], \r\n",
    "                    y=[], \r\n",
    "                    line=dict(width=1))\r\n",
    "\r\n",
    "    read_dat = read.data[-1]\r\n",
    "    \r\n",
    "    x = previous_runs[k][\"time_arr\"][:]\r\n",
    "    y = previous_runs[k][\"temperature_arr\"][:]\r\n",
    "    with read.batch_update():\r\n",
    "        read_dat.x += tuple(x)\r\n",
    "        read_dat.y += tuple(y) \r\n",
    "    previous_runs[k].close()\r\n",
    "read"
   ],
   "outputs": [],
   "metadata": {}
  },
  {
   "cell_type": "code",
   "execution_count": null,
   "source": [],
   "outputs": [],
   "metadata": {}
  }
 ],
 "metadata": {
  "orig_nbformat": 4,
  "language_info": {
   "name": "python",
   "version": "3.9.6",
   "mimetype": "text/x-python",
   "codemirror_mode": {
    "name": "ipython",
    "version": 3
   },
   "pygments_lexer": "ipython3",
   "nbconvert_exporter": "python",
   "file_extension": ".py"
  },
  "kernelspec": {
   "name": "python3",
   "display_name": "Python 3.9.6 64-bit ('ray': conda)"
  },
  "interpreter": {
   "hash": "a910d45236678c3c10cdb1ea76c9778fb4e759d2f333046ac1643087d8432080"
  }
 },
 "nbformat": 4,
 "nbformat_minor": 2
}